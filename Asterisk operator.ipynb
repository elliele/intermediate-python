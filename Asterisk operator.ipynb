{
 "cells": [
  {
   "cell_type": "markdown",
   "metadata": {},
   "source": [
    "# The Asterisk(*) in Python and its use cases\n",
    "The asterisk sign(*) can be used for different cases in Python:\n",
    "<ul>\n",
    "    <li>Multiplication and power operations</li>\n",
    "    <li>Creation of list, tuple, or string with repeated elements</li>\n",
    "    <li>*args, **kwargs, and keyword-only parameters</li>\n",
    "    <li>Unpacking lists/tuples/dictionaries for function arguments</li>\n",
    "    <li>Unpacking containers</li>\n",
    "    <li>Merging containers into list/Merge dictionaries</li>\n",
    "    </ul>"
   ]
  },
  {
   "cell_type": "markdown",
   "metadata": {},
   "source": [
    "## Multiplication and power operations"
   ]
  },
  {
   "cell_type": "code",
   "execution_count": 2,
   "metadata": {},
   "outputs": [
    {
     "name": "stdout",
     "output_type": "stream",
     "text": [
      "35\n",
      "16\n"
     ]
    }
   ],
   "source": [
    "# multiplication \n",
    "result = 7 * 5\n",
    "print(result)\n",
    "\n",
    "# power operation\n",
    "result = 2 ** 4\n",
    "print(result)"
   ]
  },
  {
   "cell_type": "markdown",
   "metadata": {},
   "source": [
    "## Creation of list, tuple, or string with repeated elements"
   ]
  },
  {
   "cell_type": "code",
   "execution_count": 4,
   "metadata": {},
   "outputs": [
    {
     "name": "stdout",
     "output_type": "stream",
     "text": [
      "[0, 0, 0, 0, 0, 0, 0, 0, 0, 0]\n",
      "[1, 2, 1, 2, 1, 2, 1, 2, 1, 2]\n",
      "(0, 0, 0, 0, 0, 0, 0, 0, 0, 0)\n",
      "(1, 2, 1, 2, 1, 2, 1, 2, 1, 2)\n",
      "AAAAAAAAAA\n",
      "ABABABABAB\n"
     ]
    }
   ],
   "source": [
    "# list\n",
    "zeros = [0] * 10\n",
    "onetwos = [1, 2] * 5\n",
    "print(zeros)\n",
    "print(onetwos)\n",
    "\n",
    "# tuple\n",
    "zeros = (0,) * 10\n",
    "onetwos = (1, 2) * 5\n",
    "print(zeros)\n",
    "print(onetwos)\n",
    "\n",
    "# string\n",
    "A_string = \"A\" * 10\n",
    "AB_string = \"AB\" * 5\n",
    "print(A_string)\n",
    "print(AB_string)"
   ]
  },
  {
   "cell_type": "markdown",
   "metadata": {},
   "source": [
    "## *args, **kwargs, and keyword-only arguments\n",
    "<ul>\n",
    "    <li>Use *args for variable-length arguments</li>\n",
    "    <li>Use **kwargs for variable-length keyword arguments</li>\n",
    "    <li>Use *, followed by more function parameters to enforce keyword-only arguments</li>\n",
    "    </ul>\n",
    "   "
   ]
  },
  {
   "cell_type": "code",
   "execution_count": 5,
   "metadata": {},
   "outputs": [
    {
     "name": "stdout",
     "output_type": "stream",
     "text": [
      "Hey\n",
      "3\n",
      "[0, 1, 2]\n",
      "name Alex\n",
      "age 8\n",
      "Michael\n",
      "5\n"
     ]
    }
   ],
   "source": [
    "def my_function(*args, **kwargs):\n",
    "    for arg in args:\n",
    "        print(arg)\n",
    "    for key in kwargs:\n",
    "        print(key, kwargs[key])\n",
    "        \n",
    "my_function(\"Hey\", 3, [0, 1, 2], name=\"Alex\", age=8)\n",
    "\n",
    "# Parameters after '*' or '*identifier' are keyword-only parameters and may only be passed using keyword arguments.\n",
    "def my_function2(name, *, age):\n",
    "    print(name)\n",
    "    print(age)\n",
    "    \n",
    "# my_function2(\"Michael\", 5) --> this would raise a TypeError\n",
    "my_function2(\"Michael\", age=5)"
   ]
  },
  {
   "cell_type": "markdown",
   "metadata": {},
   "source": [
    "## Unpacking for function arguments\n",
    "<ul>\n",
    "    <li>Lists/tuples/sets/string can be unpacked into function arguments with one * if the length matches the parameters.</li>\n",
    "    <li>Dictionaries can be unpacked with two ** if the length and the keys match the parameters.</li>\n",
    "    </ul>"
   ]
  },
  {
   "cell_type": "code",
   "execution_count": 6,
   "metadata": {},
   "outputs": [
    {
     "name": "stdout",
     "output_type": "stream",
     "text": [
      "1 2 3\n",
      "A B C\n",
      "4 5 6\n"
     ]
    }
   ],
   "source": [
    "def foo(a, b, c):\n",
    "    print(a, b, c)\n",
    "    \n",
    "# length must match\n",
    "my_list = [1, 2, 3]\n",
    "foo(*my_list)\n",
    "\n",
    "my_string = \"ABC\"\n",
    "foo(*my_string)\n",
    "\n",
    "# length and keys must match\n",
    "my_dict = {'a': 4, 'b': 5, 'c':6}\n",
    "foo(**my_dict)"
   ]
  },
  {
   "cell_type": "markdown",
   "metadata": {},
   "source": [
    "## Unpacking containers\n",
    "Unpack the elements of a list, tuple, or set into single and multiple remaining elements. Note that mutiple elements are combined in a list, even if the unpacked container is a tuple or a set."
   ]
  },
  {
   "cell_type": "code",
   "execution_count": 8,
   "metadata": {},
   "outputs": [
    {
     "name": "stdout",
     "output_type": "stream",
     "text": [
      "[1, 2, 3, 4, 5, 6, 7, 8]\n",
      "9\n",
      "\n",
      "1\n",
      "[2, 3, 4, 5, 6, 7, 8, 9]\n",
      "\n",
      "1\n",
      "[2, 3, 4, 5, 6, 7, 8]\n",
      "9\n"
     ]
    }
   ],
   "source": [
    "numbers = (1, 2, 3, 4, 5, 6, 7, 8, 9)\n",
    "\n",
    "*beginning, last = numbers\n",
    "print(beginning)\n",
    "print(last)\n",
    "\n",
    "print()\n",
    "\n",
    "first, *end = numbers\n",
    "print(first)\n",
    "print(end)\n",
    "\n",
    "print()\n",
    "\n",
    "first, *middle, last = numbers\n",
    "print(first)\n",
    "print(middle)\n",
    "print(last)"
   ]
  },
  {
   "cell_type": "markdown",
   "metadata": {},
   "source": [
    "## Merge iterables into a list/Merge dictionaries\n",
    "This is possible since Python 3.5 thanks to PEP 448 (https://www.python.org/dev/peps/pep-0448/)."
   ]
  },
  {
   "cell_type": "code",
   "execution_count": 9,
   "metadata": {},
   "outputs": [
    {
     "name": "stdout",
     "output_type": "stream",
     "text": [
      "[1, 2, 3, 4, 5, 6]\n",
      "{'one': 1, 'two': 2, 'three': 3, 'four': 4}\n"
     ]
    }
   ],
   "source": [
    "# dump iterables into a list and merge them\n",
    "my_tuple = (1, 2, 3)\n",
    "my_set = {4, 5, 6}\n",
    "my_list = [*my_tuple, *my_set]\n",
    "print(my_list)\n",
    "\n",
    "# merge two dictionaries with dict unpacking\n",
    "dict_a = {'one': 1, 'two':2}\n",
    "dict_b = {'three': 3, 'four': 4}\n",
    "dict_c = {**dict_a, **dict_b}\n",
    "print(dict_c)"
   ]
  },
  {
   "cell_type": "markdown",
   "metadata": {},
   "source": [
    "\n",
    "But be careful with the following merging solution. It does not work if the dictionary has any non-string keys:\n",
    "\n",
    "https://stackoverflow.com/questions/38987/how-to-merge-two-dictionaries-in-a-single-expression/39858#39858"
   ]
  },
  {
   "cell_type": "code",
   "execution_count": 10,
   "metadata": {},
   "outputs": [
    {
     "ename": "TypeError",
     "evalue": "keywords must be strings",
     "output_type": "error",
     "traceback": [
      "\u001b[1;31m---------------------------------------------------------------------------\u001b[0m",
      "\u001b[1;31mTypeError\u001b[0m                                 Traceback (most recent call last)",
      "\u001b[1;32m<ipython-input-10-2660fb90a60f>\u001b[0m in \u001b[0;36m<module>\u001b[1;34m\u001b[0m\n\u001b[0;32m      1\u001b[0m \u001b[0mdict_a\u001b[0m \u001b[1;33m=\u001b[0m \u001b[1;33m{\u001b[0m\u001b[1;34m'one'\u001b[0m\u001b[1;33m:\u001b[0m \u001b[1;36m1\u001b[0m\u001b[1;33m,\u001b[0m \u001b[1;34m'two'\u001b[0m\u001b[1;33m:\u001b[0m \u001b[1;36m2\u001b[0m\u001b[1;33m}\u001b[0m\u001b[1;33m\u001b[0m\u001b[1;33m\u001b[0m\u001b[0m\n\u001b[0;32m      2\u001b[0m \u001b[0mdict_b\u001b[0m \u001b[1;33m=\u001b[0m \u001b[1;33m{\u001b[0m\u001b[1;36m3\u001b[0m\u001b[1;33m:\u001b[0m \u001b[1;36m3\u001b[0m\u001b[1;33m,\u001b[0m \u001b[1;34m'four'\u001b[0m\u001b[1;33m:\u001b[0m \u001b[1;36m4\u001b[0m\u001b[1;33m}\u001b[0m\u001b[1;33m\u001b[0m\u001b[1;33m\u001b[0m\u001b[0m\n\u001b[1;32m----> 3\u001b[1;33m \u001b[0mdict_c\u001b[0m \u001b[1;33m=\u001b[0m \u001b[0mdict\u001b[0m\u001b[1;33m(\u001b[0m\u001b[0mdict_a\u001b[0m\u001b[1;33m,\u001b[0m \u001b[1;33m**\u001b[0m\u001b[0mdict_b\u001b[0m\u001b[1;33m)\u001b[0m\u001b[1;33m\u001b[0m\u001b[1;33m\u001b[0m\u001b[0m\n\u001b[0m\u001b[0;32m      4\u001b[0m \u001b[0mprint\u001b[0m\u001b[1;33m(\u001b[0m\u001b[0mdict_c\u001b[0m\u001b[1;33m)\u001b[0m\u001b[1;33m\u001b[0m\u001b[1;33m\u001b[0m\u001b[0m\n\u001b[0;32m      5\u001b[0m \u001b[1;33m\u001b[0m\u001b[0m\n",
      "\u001b[1;31mTypeError\u001b[0m: keywords must be strings"
     ]
    }
   ],
   "source": [
    "dict_a = {'one': 1, 'two': 2}\n",
    "dict_b = {3: 3, 'four': 4}\n",
    "dict_c = dict(dict_a, **dict_b)\n",
    "print(dict_c)\n",
    "\n",
    "# this works:\n",
    "# dict_c = {**dict_a, **dict_b}"
   ]
  }
 ],
 "metadata": {
  "kernelspec": {
   "display_name": "Python 3",
   "language": "python",
   "name": "python3"
  },
  "language_info": {
   "codemirror_mode": {
    "name": "ipython",
    "version": 3
   },
   "file_extension": ".py",
   "mimetype": "text/x-python",
   "name": "python",
   "nbconvert_exporter": "python",
   "pygments_lexer": "ipython3",
   "version": "3.8.5"
  }
 },
 "nbformat": 4,
 "nbformat_minor": 4
}
