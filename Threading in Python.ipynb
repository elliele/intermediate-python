{
 "cells": [
  {
   "cell_type": "markdown",
   "metadata": {},
   "source": [
    "# Threading in Python\n",
    "\n",
    "In this article we talk about how to use threading module in Python.\n",
    "\n",
    "<ul>\n",
    "    <li>How to create and start multiple threads</li>\n",
    "    <li>How to wait for threads to complete</li>\n",
    "    <li>How to share data between threads</li>\n",
    "    <li>How to use Locks to prevent race conditions</li>\n",
    "    <li>What is daemon thread</li>\n",
    "    <li>How to use a Queue for thread-safe data/task processing</li>\n",
    "    </ul>\n",
    "    \n",
    "## Create and run threads\n",
    "\n",
    "You create a thread with threading.Thread(). It takes two important arguments:\n",
    "<ul>\n",
    "    <li>target: a callable object(function) for this thread to be invoked when the thread starts</li>\n",
    "    <li>args: the (function) arguments for the target function. This must be a tuple</li>\n",
    "    </ul>\n",
    "Start a thread with thread.start()\n",
    "\n",
    "Call thread.join() to tell the program that it should wait for this thread to complete before it continues with the rest of the code."
   ]
  },
  {
   "cell_type": "code",
   "execution_count": null,
   "metadata": {},
   "outputs": [],
   "source": [
    "from threading import Thread\n",
    "\n",
    "def square_numbers():\n",
    "    for i in range(1000):\n",
    "        result = i * i\n",
    "        \n",
    "if __name__ == \"__main__\":\n",
    "    threads = []\n",
    "    num_threads = 10\n",
    "    \n",
    "    # create threads and asign a function for each thread\n",
    "    for i in range(num_threads):\n",
    "        thread = Thread(target=square_numbers)\n",
    "        threads.append(thread)\n",
    "\n",
    "    # start all threads\n",
    "    for thread in threads:\n",
    "        thread.start()\n",
    "\n",
    "    # wait for all threads to finish\n",
    "    # block the main thread until these threads are finished\n",
    "    for thread in threads:\n",
    "        thread.join()"
   ]
  },
  {
   "cell_type": "markdown",
   "metadata": {},
   "source": [
    "## Share data between threads\n",
    "\n",
    "Since threads live in the same memory space, they have access to the same (public) data. Thus, you can for example simply use a global variable to which all threads have read and write access.\n",
    "\n",
    "Task: create two threads, each thread should access the current database value, modify it (in this case only increase it by 1), and write the new value back into the database value. Each thread should do this operation 10 times."
   ]
  },
  {
   "cell_type": "code",
   "execution_count": 3,
   "metadata": {},
   "outputs": [
    {
     "name": "stdout",
     "output_type": "stream",
     "text": [
      "Start value:  0\n",
      "End value:  1\n",
      "end main\n"
     ]
    }
   ],
   "source": [
    "from threading import Thread\n",
    "import time\n",
    "\n",
    "# all threads can access this global variable\n",
    "database_value = 0\n",
    "\n",
    "def increase():\n",
    "    global database_value # needed to modify the global value\n",
    "    \n",
    "    # get a local copy (simulate data retrieving)\n",
    "    local_copy = database_value\n",
    "    \n",
    "    # simulate some modifying operation \n",
    "    local_copy += 1\n",
    "    time.sleep(0.1) # switch to next thread\n",
    "    \n",
    "    # write the calculated new value into the global variable \n",
    "    database_value = local_copy\n",
    "    \n",
    "if __name__ == \"__main__\":\n",
    "    \n",
    "    print(\"Start value: \", database_value)\n",
    "    \n",
    "    t1 = Thread(target=increase)\n",
    "    t2 = Thread(target=increase)\n",
    "    \n",
    "    t1.start()\n",
    "    t2.start()\n",
    "    \n",
    "    t1.join()\n",
    "    t2.join()\n",
    "    \n",
    "    print(\"End value: \", database_value)\n",
    "    \n",
    "    print('end main')\n",
    "    \n",
    "    "
   ]
  },
  {
   "cell_type": "markdown",
   "metadata": {},
   "source": [
    "## How to use Locks\n",
    "\n",
    "Notice that in the above example, the 2 threads should increment the value by 1, so 2 increment operations are performed. But why is the end value 1 not 2?\n",
    "\n",
    "### Race condition\n",
    "\n",
    "A race condition happened here. A race condition occurs when two or more threads can access shared data and they try to change it at the same time. Because the thread scheduling algorithm can swap between threads at any time, you don't know the order in which the threads will attempt to access the shared data. In our case, the first thread accesses the database_value(0) and stores it in a local copy. It then increments it (local_copy is now 1). With out time.sleep() function that just simulates some time consuming operations, the program will swap to the second thread in the meantime. This will also retrieve the current database_value (still 0) and increment the local_copy to 1. Now both threads have a local copy with value 1, so both will write the 1 into the global database_value. This is why the end value is 1 not 2.\n",
    "\n",
    "### Avoid race conditions with Locks\n",
    "\n",
    "A lock (also known as mutex) is a synchronization mechanism for enforcing limits on access to a resource in a environment where there are threads of execution. A Lock has two states: **locked** and **unlocked**. If the state is locked, it does not allow other concurrent threads to enter this code section until the state is unlocked again. \n",
    "\n",
    "Two functions are important:\n",
    "<ol>\n",
    "    <li>lock.acquire(): This will lock the state and block</li>\n",
    "    <li>lock.release(): This will unlock the state again</li>\n",
    "    </ol>\n",
    "Important: You should always release the block again after it was acquired!\n",
    "\n",
    "In our example the critical node section where the database values are retrieved and modified is now locked. This prevents the second thread from modifying the global data at the same time. Not much has changed in our code. All new changes are commented in the code below.\n"
   ]
  },
  {
   "cell_type": "code",
   "execution_count": 1,
   "metadata": {},
   "outputs": [
    {
     "name": "stdout",
     "output_type": "stream",
     "text": [
      "Start value:  0\n",
      "End value: 2\n",
      "end main\n"
     ]
    }
   ],
   "source": [
    "# import lock\n",
    "from threading import Thread, Lock\n",
    "import time\n",
    "\n",
    "\n",
    "database_value = 0\n",
    "\n",
    "def increase(lock):\n",
    "    global database_value \n",
    "    \n",
    "    # lock the state\n",
    "    lock.acquire()\n",
    "\n",
    "    # processing\n",
    "    local_copy = database_value\n",
    "    local_copy += 1\n",
    "    time.sleep(0.1)\n",
    "    database_value = local_copy\n",
    "    \n",
    "    # unlock the state\n",
    "    lock.release()\n",
    "\n",
    "\n",
    "if __name__ == \"__main__\":\n",
    "\n",
    "    # create a lock\n",
    "    lock = Lock()\n",
    "    \n",
    "    print('Start value: ', database_value)\n",
    "\n",
    "    # pass the lock to the target function\n",
    "    t1 = Thread(target=increase, args=(lock,)) # notice the comma after lock since args must be a tuple\n",
    "    t2 = Thread(target=increase, args=(lock,))\n",
    "\n",
    "    t1.start()\n",
    "    t2.start()\n",
    "\n",
    "    t1.join()\n",
    "    t2.join()\n",
    "\n",
    "    print('End value:', database_value)\n",
    "\n",
    "    print('end main')"
   ]
  },
  {
   "cell_type": "markdown",
   "metadata": {},
   "source": [
    "**Use the lock as a context manager**\n",
    "\n",
    "After lock.acquire() you should never forget to call lock.release() to unblock the code. You can also use a lock as a context manager, which will safely lock and unlcok your code. It is recommended to use a lock this way:"
   ]
  },
  {
   "cell_type": "code",
   "execution_count": null,
   "metadata": {},
   "outputs": [],
   "source": [
    "def increase(lock):\n",
    "     global database_value\n",
    "        \n",
    "    with lock:\n",
    "        local_copy = database_value\n",
    "        local_copy += 1\n",
    "        time.sleep(0.1)\n",
    "        database_value = local_copy"
   ]
  },
  {
   "cell_type": "markdown",
   "metadata": {},
   "source": [
    "## Using Queues in Python\n",
    "\n",
    "Queues can be used for thread-safe/process-safe data exchanges and data processing both in a multithreaded and a multiprocessing environment.\n",
    "\n",
    "### The queue\n",
    "\n",
    "A queue is a linear data structure that follows the First In First Out (FIFO) principle. A good example is a queue of customers that are waiting in line, where the customer that came first is served first."
   ]
  },
  {
   "cell_type": "code",
   "execution_count": null,
   "metadata": {},
   "outputs": [
    {
     "name": "stdout",
     "output_type": "stream",
     "text": [
      "1\n"
     ]
    }
   ],
   "source": [
    "from queue import Queue\n",
    "\n",
    "# create queue\n",
    "q = Queue()\n",
    "\n",
    "# add elements\n",
    "q.put(1) # 1\n",
    "q.put(2) # 2 1\n",
    "q.put(3) # 3 2 1\n",
    "\n",
    "# now q looks like this:\n",
    "# back --> 3 2 1 --> front\n",
    "\n",
    "# get and remove first element\n",
    "first = q.get() # --> 1\n",
    "print(first)\n",
    "\n",
    "q.task_done()\n",
    "q.join()\n",
    "\n",
    "# q looks like this:\n",
    "# back --> 3 2 --> front\n"
   ]
  },
  {
   "cell_type": "markdown",
   "metadata": {},
   "source": [
    "### Using a queue in multithreading \n",
    "\n",
    "Operations with a queue are thread-safe. Important methods are:\n",
    "<ul>\n",
    "    <li>q.get(): Remove and return the first item. By default, it blocks until the item is available</li>\n",
    "    <li>q.put(item) : Puts element at the end of the queue. By default, it blocks until a free slot is available.</li>\n",
    "    <li>q.task_done(): Indicate that a formerly enqueued task is complete. For each get() you should call this after you are done with your task for this item</li>\n",
    "    <li>q.join(): Blocks until all items in the queue have been gotten and processed (task_done() has been balled for each item)</li>\n",
    "    <li>q.empty(): Return True if the queue is empty</li>\n",
    "    </ul>\n",
    "    \n",
    "The following example uses a queue to exchange numbers from 0...19. Each thread invokes the worker method. Inside the infinite loop the thread is waiting until items are available due to the blocking q.get() call. When items are available, they are processed (i.e. just printed here), and then q.task_done() tells the queue that processing is complete. In the main thread, 10 daemon threads are created. This means that they automatically die when the main thread dies, and thus the worker method and infinite loop is no longer invoked. Then the queue is filled with items and the worker method can continue with available items. At the end q.join() is necessary to block the main thread until all items have been gotten and proccessed.        "
   ]
  },
  {
   "cell_type": "code",
   "execution_count": null,
   "metadata": {},
   "outputs": [],
   "source": [
    "from threading import Thread, Lock, current_thread\n",
    "from queue import Queue\n",
    "\n",
    "def worker(q, lock):\n",
    "    while True:\n",
    "        value = q.get() # blocks until the item is available\n",
    "\n",
    "        # do stuff...\n",
    "        with lock:\n",
    "            # prevent printing at the same time with this lock\n",
    "            print(f\"in {current_thread().name} got {value}\")\n",
    "        # ...\n",
    "\n",
    "        # For each get(), a subsequent call to task_done() tells the queue\n",
    "        # that the processing on this item is complete.\n",
    "        # If all tasks are done, q.join() can unblock\n",
    "        q.task_done()\n",
    "    \n",
    "if __name__ == \"__main__\":\n",
    "    q = Queue()\n",
    "    num_threads = 10\n",
    "    lock = Lock()\n",
    "    \n",
    "    for i in range(num_threads):\n",
    "        t = Thread(name=f\"Thread{i+1}\", target=worker, args=(q,lock))\n",
    "        t.daemon = True # dies when the main thread dies\n",
    "        t.start()\n",
    "        \n",
    "    # fill the queue with items\n",
    "    for x in range(20):\n",
    "        q.put(x)\n",
    "        \n",
    "    q.join() # Blocks until all items in the queue have been gotten and processed.\n",
    "    \n",
    "    print('main done')"
   ]
  },
  {
   "cell_type": "markdown",
   "metadata": {},
   "source": [
    "### Daemon threads\n",
    "\n",
    "In the above example, daemon threads are used. Daemon threads are background threads that automatically die when the main program ends. This is why the infinite loops inside the worker methods can be exited. Without a daemon process we would have to use a signalling mechanism such as a threading.Event to stop the worker. But be careful with daemon processes: They are abruptly stopped and their resources (e.g. open files or database transactions) may not be released/completed properly."
   ]
  },
  {
   "cell_type": "code",
   "execution_count": null,
   "metadata": {},
   "outputs": [],
   "source": []
  }
 ],
 "metadata": {
  "kernelspec": {
   "display_name": "Python 3",
   "language": "python",
   "name": "python3"
  },
  "language_info": {
   "codemirror_mode": {
    "name": "ipython",
    "version": 3
   },
   "file_extension": ".py",
   "mimetype": "text/x-python",
   "name": "python",
   "nbconvert_exporter": "python",
   "pygments_lexer": "ipython3",
   "version": "3.8.5"
  }
 },
 "nbformat": 4,
 "nbformat_minor": 4
}
