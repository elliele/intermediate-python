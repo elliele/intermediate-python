{
 "cells": [
  {
   "cell_type": "markdown",
   "metadata": {},
   "source": [
    "# Function arguments\n",
    "\n",
    "In this article we will talk about function paramenters and function arguments in detail. We will learn:\n",
    "\n",
    "<ul>\n",
    "    <li> The difference between arguments and parameters</li>\n",
    "    <li>Positional and keywords arguments</li>\n",
    "    <li>Default arguments</li>\n",
    "    <li>Variable-length arguments (*args and **kwargs)</li>\n",
    "    <li>Container unpacking into functioning arguments</li>\n",
    "    <li>Local vs. global arguments</li>\n",
    "    <li>Parameter passing (by value or by reference?)</li>\n",
    "    </ul>\n",
    "    "
   ]
  },
  {
   "cell_type": "markdown",
   "metadata": {},
   "source": [
    "## Arguments and parameters\n",
    "<ul>\n",
    "    <li>Parameters are the variable that are defined or used inside parentheses while defining a function</li>\n",
    "    <li>Arguments are the value passed for these parameters while calling a function</li>\n",
    "    </ul>\n",
    "    "
   ]
  },
  {
   "cell_type": "code",
   "execution_count": 1,
   "metadata": {},
   "outputs": [
    {
     "name": "stdout",
     "output_type": "stream",
     "text": [
      "Alex\n"
     ]
    }
   ],
   "source": [
    "def print_name(name): # name is the parameter\n",
    "    print(name)\n",
    "    \n",
    "print_name('Alex') # 'Alex' is the argument"
   ]
  },
  {
   "cell_type": "markdown",
   "metadata": {},
   "source": [
    "## Positional and keyworrd arguments\n",
    "\n",
    "We can pass arguments as positional or keyword arguments. Some benefits of keyword arguments can be:\n",
    "<ul>\n",
    "    <li>We can calll arguments by their names to make it more clear what they represent</li>\n",
    "    <li>We can rearrange arguments in a way that makes them most readable</li>\n",
    "    </ul>"
   ]
  },
  {
   "cell_type": "code",
   "execution_count": 3,
   "metadata": {},
   "outputs": [
    {
     "name": "stdout",
     "output_type": "stream",
     "text": [
      "1 2 3\n",
      "1 2 3\n",
      "1 2 3\n",
      "1 2 3\n"
     ]
    }
   ],
   "source": [
    "def foo(a, b, c):\n",
    "    print(a, b, c)\n",
    "    \n",
    "# positional arguments\n",
    "foo(1, 2, 3)\n",
    "\n",
    "# keyword arguments\n",
    "foo(a=1, b=2, c=3)\n",
    "foo(c=3, b=2, a=1) # Note that the order is not important here\n",
    "\n",
    "# mix of both\n",
    "foo(1, b=2, c=3)\n",
    "\n",
    "# This is not allowed:\n",
    "# foo(1, b=2, 3) # positional arugment after keyword argument\n",
    "# foo(1, b=2, a=3) #multiple values for argument 'a'"
   ]
  },
  {
   "cell_type": "markdown",
   "metadata": {},
   "source": [
    "## Default arguments\n",
    "\n",
    "Functions can have default arguments with a predefined value. This argument can be left out and the default value is then passed to the button, or the argument can be used with a different value. Note that arguments must be defined as the last parameters in a function."
   ]
  },
  {
   "cell_type": "code",
   "execution_count": 5,
   "metadata": {},
   "outputs": [
    {
     "name": "stdout",
     "output_type": "stream",
     "text": [
      "1 2 3 4\n",
      "1 2 3 100\n"
     ]
    }
   ],
   "source": [
    "# default arguments\n",
    "def foo(a, b, c, d=4):\n",
    "    print(a, b, c, d)\n",
    "\n",
    "foo(1, 2, 3)\n",
    "foo(1, b=2, c=3, d=100)\n",
    "\n",
    "# not allowed: default arguments must be at the end\n",
    "# def foo(a, b=2, c, d=4)\n",
    "#   print(a, b, c, d)"
   ]
  },
  {
   "cell_type": "markdown",
   "metadata": {},
   "source": [
    "## Variable-length arguments(*args and **kwargs)\n",
    "<ul>\n",
    "    <li>If you mark a parameter with one asterisk(*), you can pass any number of positional arguments to your function (Typically called *args)</li>\n",
    "    <li>If you mark a parameter with two asterisk(**), you can pass any number of keyword arguments to this function (Typically called **kwargs)</li>\n",
    "    </ul>"
   ]
  },
  {
   "cell_type": "code",
   "execution_count": 7,
   "metadata": {},
   "outputs": [
    {
     "name": "stdout",
     "output_type": "stream",
     "text": [
      "1 2\n",
      "3\n",
      "4\n",
      "5\n",
      "six 6\n",
      "seven 7\n",
      "\n",
      "1 2\n",
      "three 3\n"
     ]
    }
   ],
   "source": [
    "def foo(a, b, *args, **kwargs):\n",
    "    print(a,b)\n",
    "    for arg in args:\n",
    "        print(arg)\n",
    "    for key in kwargs:\n",
    "        print(key, kwargs[key])\n",
    "        \n",
    "# 3, 4, 5, 6 are combined into args\n",
    "# six and seven are combined into kwargs\n",
    "foo(1, 2, 3, 4, 5, six=6, seven=7)\n",
    "print()\n",
    "\n",
    "# omitting of args or kwargs is also possible\n",
    "foo(1, 2, three=3)"
   ]
  },
  {
   "cell_type": "markdown",
   "metadata": {},
   "source": [
    "## Forced keyword arguments\n",
    "\n",
    "Sometimes you want to have key-word only arguments. You can enforce that with:\n",
    "<ul>\n",
    "    <li>If you write '*,' in your function parameter list, all parameters after that must be passed as keyword arguments.</li>\n",
    "    <li>Arguments after variable-length arguments must be keyword arguments.</li>\n",
    "    </ul>"
   ]
  },
  {
   "cell_type": "code",
   "execution_count": 8,
   "metadata": {},
   "outputs": [
    {
     "name": "stdout",
     "output_type": "stream",
     "text": [
      "1 2 3 4\n",
      "8\n",
      "9\n",
      "10\n",
      "50\n"
     ]
    }
   ],
   "source": [
    "def foo(a, b, *, c, d):\n",
    "    print(a, b, c, d)\n",
    "    \n",
    "foo(1, 2, c=3, d=4)\n",
    "# not allowed:\n",
    "# foo(1, 2, 3, 4)\n",
    "\n",
    "# arguments after variable-length arguments must be keyword arguments\n",
    "def foo(*args, last):\n",
    "    for arg in args:\n",
    "        print(arg)\n",
    "    print(last)\n",
    "\n",
    "foo(8, 9, 10, last=50)"
   ]
  },
  {
   "cell_type": "markdown",
   "metadata": {},
   "source": [
    "## Unpacking into arguments\n",
    "<ul>\n",
    "    <li>Lists or tuples can be unpacked into arguments with one asterisk(*) if the length of the container matches the number of function parameters.</li>\n",
    "    <li>Dictionaries can be unpacked into arguments with two asterisk(**) if the length and the keys match function parameters.</li>\n",
    "    </ul>"
   ]
  },
  {
   "cell_type": "code",
   "execution_count": 9,
   "metadata": {},
   "outputs": [
    {
     "name": "stdout",
     "output_type": "stream",
     "text": [
      "4 5 6\n",
      "1 2 3\n"
     ]
    }
   ],
   "source": [
    "def foo(a, b, c):\n",
    "    print(a, b, c)\n",
    "    \n",
    "# list/tuple unpacking, length must match\n",
    "my_list = [4, 5, 6] # or tuple\n",
    "foo(*my_list)\n",
    "\n",
    "# dict unpacking, keys and length must match\n",
    "my_dict = {'a': 1, 'b': 2, 'c': 3}\n",
    "foo(**my_dict)\n",
    "\n",
    "# my_dict = {'a': 1, 'b': 2, 'd': 3} # not possible since wrong keyword"
   ]
  },
  {
   "cell_type": "markdown",
   "metadata": {},
   "source": [
    "## Local vs global varialbes\n",
    "\n",
    "Global varialbes can be accessed within a function body, but to modify them, we first must state global var_name in order to change the global variable."
   ]
  },
  {
   "cell_type": "code",
   "execution_count": 12,
   "metadata": {},
   "outputs": [
    {
     "name": "stdout",
     "output_type": "stream",
     "text": [
      "number in function: 0\n",
      "number before foo2(): 0\n",
      "number after foo2(): 3\n"
     ]
    }
   ],
   "source": [
    "def foo1():\n",
    "    x = number # gloval variable can only be accessed here\n",
    "    print('number in function:', x)\n",
    "\n",
    "number = 0\n",
    "foo1()\n",
    "\n",
    "# modifying the global variable\n",
    "def foo2():\n",
    "    global number # global number variable can now be accessed and modified\n",
    "    number = 3\n",
    "\n",
    "print('number before foo2():', number)\n",
    "foo2() # modifies the global variable\n",
    "print('number after foo2():', number)"
   ]
  },
  {
   "cell_type": "markdown",
   "metadata": {},
   "source": [
    "if we do not write global var_name and assign a new value to a variable with the same name as the global variable, this will create a local variable within the function. The global variable remains unchanged."
   ]
  },
  {
   "cell_type": "code",
   "execution_count": 13,
   "metadata": {},
   "outputs": [
    {
     "name": "stdout",
     "output_type": "stream",
     "text": [
      "number before foo3(): 0\n",
      "number after foo3(): 0\n"
     ]
    }
   ],
   "source": [
    "number = 0\n",
    "\n",
    "def foo3():\n",
    "    number = 3 # this is a local variable\n",
    "\n",
    "print('number before foo3():', number)\n",
    "foo3() # does not modify the global variable\n",
    "print('number after foo3():', number)"
   ]
  },
  {
   "cell_type": "markdown",
   "metadata": {},
   "source": [
    "## Parameter passing\n",
    "\n",
    "Python uses mechanism, which is kwon as \"Call-by-Object\" or \"Call-by-Object-Reference\". The following rules must be considered:\n",
    "<ul>\n",
    "    <li>The parameter passed in is actually a reference to an object (but the reference is passed by value)</li>\n",
    "    <li>Difference between mutable and immutable data types</li>\n",
    "    </ul>\n",
    "This means that:\n",
    "<ol>\n",
    "    <li>Mutable objects(e.g. lists,dict) can be changed within a method.\n",
    "        <ul><li>But if you rebind the reference in the method, the outer reference will still point at the original object.</li></ul>\n",
    "    <li>Immutable objects (e.g. int, string) cannot be changed within a method.</li>\n",
    "    <ul><li>But immutable object CONTAINED WITHIN a mutable object can be re-assigned within a method.</li></ul>\n",
    "    </ol>"
   ]
  },
  {
   "cell_type": "code",
   "execution_count": 14,
   "metadata": {},
   "outputs": [
    {
     "name": "stdout",
     "output_type": "stream",
     "text": [
      "var before foo(): 10\n",
      "var after foo(): 10\n"
     ]
    }
   ],
   "source": [
    "# immutable objects -> no change\n",
    "def foo(x):\n",
    "    x = 5 #x +=5 also no effect since x is immutable and a new variable must be created\n",
    "\n",
    "var = 10\n",
    "print('var before foo():', var)\n",
    "foo(var)\n",
    "print('var after foo():', var)"
   ]
  },
  {
   "cell_type": "code",
   "execution_count": 15,
   "metadata": {},
   "outputs": [
    {
     "name": "stdout",
     "output_type": "stream",
     "text": [
      "my_list before foo(): [1, 2, 3]\n",
      "my_list after foo(): [1, 2, 3, 4]\n"
     ]
    }
   ],
   "source": [
    "# mutable objects -> change\n",
    "def foo(a_list):\n",
    "    a_list.append(4)\n",
    "\n",
    "my_list = [1, 2, 3]\n",
    "print('my_list before foo():', my_list)\n",
    "foo(my_list)\n",
    "print('my_list after foo():', my_list)"
   ]
  },
  {
   "cell_type": "code",
   "execution_count": 16,
   "metadata": {},
   "outputs": [
    {
     "name": "stdout",
     "output_type": "stream",
     "text": [
      "my_list before foo(): [1, 2, 'Max']\n",
      "my_list after foo(): [-100, 2, 'Paul']\n"
     ]
    }
   ],
   "source": [
    "# immutable objects within a mutable object -> change\n",
    "def foo(a_list):\n",
    "    a_list[0] = -100\n",
    "    a_list[2] = \"Paul\"\n",
    "    \n",
    "my_list = [1, 2, \"Max\"]\n",
    "print('my_list before foo():', my_list)\n",
    "foo(my_list)\n",
    "print('my_list after foo():', my_list)"
   ]
  },
  {
   "cell_type": "code",
   "execution_count": 17,
   "metadata": {},
   "outputs": [
    {
     "name": "stdout",
     "output_type": "stream",
     "text": [
      "my_list before foo(): [1, 2, 3]\n",
      "my_list after foo(): [1, 2, 3]\n"
     ]
    }
   ],
   "source": [
    "# Rebind a mutable reference -> no change\n",
    "def foo(a_list):\n",
    "    a_list = [50, 60, 70] # a_list is now a new local variable within the function\n",
    "    a_list.append(50)\n",
    "\n",
    "my_list = [1, 2, 3]\n",
    "print('my_list before foo():', my_list)\n",
    "foo(my_list)\n",
    "print('my_list after foo():', my_list)"
   ]
  },
  {
   "cell_type": "markdown",
   "metadata": {},
   "source": [
    "Be careful with += and = operations for mutable types. The first operation has an effect on the passed argument while the latter has not:"
   ]
  },
  {
   "cell_type": "code",
   "execution_count": 18,
   "metadata": {},
   "outputs": [
    {
     "name": "stdout",
     "output_type": "stream",
     "text": [
      "my_list before foo(): [1, 2, 3]\n",
      "my_list after foo(): [1, 2, 3, 4, 5]\n",
      "my_list before bar(): [1, 2, 3]\n",
      "my_list after bar(): [1, 2, 3]\n"
     ]
    }
   ],
   "source": [
    "# another example with rebinding references:\n",
    "def foo(a_list):\n",
    "    a_list += [4, 5] # this branches the outer variable\n",
    "    \n",
    "def bar(a_list):\n",
    "    a_list = a_list + [4, 5] # this rebinds the reference to a new local variable\n",
    "    \n",
    "my_list = [1, 2, 3]\n",
    "print('my_list before foo():', my_list)\n",
    "foo(my_list)\n",
    "print('my_list after foo():', my_list)\n",
    "\n",
    "my_list = [1, 2, 3]\n",
    "print('my_list before bar():', my_list)\n",
    "bar(my_list)\n",
    "print('my_list after bar():', my_list)"
   ]
  }
 ],
 "metadata": {
  "kernelspec": {
   "display_name": "Python 3",
   "language": "python",
   "name": "python3"
  },
  "language_info": {
   "codemirror_mode": {
    "name": "ipython",
    "version": 3
   },
   "file_extension": ".py",
   "mimetype": "text/x-python",
   "name": "python",
   "nbconvert_exporter": "python",
   "pygments_lexer": "ipython3",
   "version": "3.8.5"
  }
 },
 "nbformat": 4,
 "nbformat_minor": 4
}
