{
 "cells": [
  {
   "cell_type": "markdown",
   "metadata": {},
   "source": [
    "# Threading vs Multiprocessing\n",
    "\n",
    "We have two common approaches to run code in parallel (achieve multitasking and speed up your program): via threads or via multiple process.\n",
    "\n",
    "## Process \n",
    "\n",
    "A process is an instance of a program, e.g. a Python interpreter. They are idepend from each other and do not share the same memory.\n",
    "\n",
    "Key facts:\n",
    "<ul>\n",
    "    <li> A new process is started independently from the first process </li>\n",
    "    <li> Takes advantage of multiple CPUs and cores </li>\n",
    "    <li> Separate memory space </li>\n",
    "    <li> Memory is not shared between processes </li>\n",
    "    <li> One GIL (Global Interpreter lock) for each process, i.e. avoids GIL limitation </li>\n",
    "    <li> Great for CPU-bound process </li>\n",
    "    <li> Child processes are interruptable/killable </li>\n",
    "    \n",
    "    <li> Heavyweight </li>\n",
    "    <li> Starting a process is slower that starting a thread </li>\n",
    "    <li> Larger memory footprint </li>\n",
    "    <li> IPC (interprocess communication) is more complicated </li>\n",
    "</ul>\n",
    "\n",
    "## Threads\n",
    "\n",
    "A thread is an entity within a process that can be scheduled for execution (Also known as \"leightweight process\"). A Process can spawn multiple threads. The main difference is that all threads within a process share the same memory.\n",
    "\n",
    "Key facts:\n",
    "<ul>\n",
    "    <li> Multiple threads can be spawned within one process </li>\n",
    "    <li> Memory is shared between all threads </li>\n",
    "    <li> Starting a thread is faster than starting a process </li>\n",
    "    <li> Great for I/O-bound tasks </li>\n",
    "    <li> Lightweight - low memory footprint </li>\n",
    "    \n",
    "    \n",
    "    <li> One GIL for all threads, i.e. threads are limited by GIL </li>\n",
    "    <li> Multithreading has no effect for CPU-bound tasks due to the GIL </li>\n",
    "    <li> Not interruptible/killable -> be careful with memory leaks </li>\n",
    "    <li> Increased the potention for race conditions </li>\n",
    "    </ul>\n"
   ]
  },
  {
   "cell_type": "markdown",
   "metadata": {},
   "source": [
    "### GIL: Global interpreter lock\n",
    "\n",
    "This is a mutex (or a lock) that allows only one thread to hold control of the Python interpreter. This means that the GIL allows only one thread to execute at a time even in a multi-threaded architecture.\n",
    "<ol>\n",
    "    <li>A lock that allows only one thread at a time to execute in Python </li>\n",
    "    <li>Needed in CPython because memory management is ont thread-safe </li>\n",
    "    \n",
    "    <li>Avoid: </li>\n",
    "        <ol>\n",
    "            <li>Use multiprocessing </li>\n",
    "            <li>Use a different, free-threaded Python implementation (Jython, IronPython)</li>\n",
    "            <li>Use Python as a wrapper for third party libraries(C/C++) -> numpy, scipy </li>\n",
    "    </ol>           \n",
    "</ol>\n",
    "\n",
    "#### Why is it needed?\n",
    "\n",
    "It is needed because CPython's (reference implementation of Python) memory management is not thread-safe. Python uses reference counting for memory management. It means that objects created in Python have a reference count variable that keeps track of the numbre of references that point to the object. When this count reaches zero, the memory occupied by the object is released. The problem was that this reference count variable needed protection from race conditions where two threads increase or decrease its value simultaneously. If this happens, it can cause either leaked memory that is never released or incorrectly release the memory while a reference to that object still exists.\n",
    "\n",
    "#### How to avoid the GIL\n",
    "\n",
    "The GIL is very controversial in the Python community. The main way to avoid the GIL is by using multiprocessing instead of threading. Another (however uncomfortable) solution would be to avoid the CPython implementation and use a free-threaded implementation like JPython or IronPython. A third option is to move parts of the application out into binary extensions modules, i.e. use Python as a wrapper for third party libraries (e.g. C/C++). This is thte parth taken by numpy and scipy."
   ]
  },
  {
   "cell_type": "markdown",
   "metadata": {},
   "source": [
    "## Threading in Python\n",
    "\n",
    "Use the threading module.\n",
    "\n",
    "Note: The following example usualy won't benefit from multiple threads since it is CPU-bound. It should just down the example of how to use threads."
   ]
  },
  {
   "cell_type": "code",
   "execution_count": null,
   "metadata": {},
   "outputs": [],
   "source": [
    "from threading import Thread\n",
    "\n",
    "def square_numbers():\n",
    "    for i in range(1000):\n",
    "        result = i * i\n",
    "        \n",
    "if __name__ == \"__main__\":\n",
    "    threads = []\n",
    "    num_threads = 10\n",
    "    \n",
    "    # create threads and assign a function for each thread\n",
    "    for i in range (num_threads):\n",
    "        thread = Thread(target=square_numbers)\n",
    "        threads.append(thread)\n",
    "        \n",
    "    # start all threads\n",
    "    for thread in threads:\n",
    "        thread.start()\n",
    "        \n",
    "    # wait for all threads to finish \n",
    "    # block the main thread until these threads are finished \n",
    "    for thread in threads:\n",
    "        thread.join()"
   ]
  },
  {
   "cell_type": "markdown",
   "metadata": {},
   "source": [
    "### When is Threading useful\n",
    "\n",
    "Despite the GIL, it is useful for I/O-bound tasks when your program has to talk to slow devices, like a hard drive or a network connection. With threading the program can use the time waiting for these devices and intelligentl do other tasks in the meantime.\n",
    "\n",
    "Example: Download website information from multiple sites. Use a thread for each site.`b"
   ]
  },
  {
   "cell_type": "markdown",
   "metadata": {},
   "source": [
    "## Multiprocessing\n",
    "\n",
    "Use the multiprocess module. The syntax is very similar to above."
   ]
  },
  {
   "cell_type": "code",
   "execution_count": null,
   "metadata": {},
   "outputs": [],
   "source": [
    "from multiprocessing import Process\n",
    "import os\n",
    "\n",
    "def square_numbers():\n",
    "    for i in range (1000):\n",
    "        result = i * i\n",
    "\n",
    "if __name__ == \"__main__\":\n",
    "    processes = []\n",
    "    num_processes = os.cpu_count()\n",
    "    \n",
    "    # create processes and assign a function for each process\n",
    "     for i in range(num_processes):\n",
    "            process = Process(target=square_numbers)\n",
    "            processes.append(process)\n",
    "            \n",
    "    # start all processes\n",
    "    for process in processes:\n",
    "        process.start()\n",
    "        \n",
    "    # wait for all processes to finish\n",
    "    # block the main thread until these processes are finished\n",
    "    for process in processes:\n",
    "        process.join()"
   ]
  },
  {
   "cell_type": "markdown",
   "metadata": {},
   "source": [
    "### When is Multiprocessing useful\n",
    "\n",
    "It is useful for CPU-bound tasks that have to do a lot of CPU operations for a large amount of data and require a lot of computation time. With multiprocessing you can split the data into equal parts an do parallel computing on different CPUs.\n",
    "\n",
    "Example: Calculate the square numbers for all numbers from 1 to 10000000. Divide the numbers into equal sized parts and use a process for each subset."
   ]
  }
 ],
 "metadata": {
  "kernelspec": {
   "display_name": "Python 3",
   "language": "python",
   "name": "python3"
  },
  "language_info": {
   "codemirror_mode": {
    "name": "ipython",
    "version": 3
   },
   "file_extension": ".py",
   "mimetype": "text/x-python",
   "name": "python",
   "nbconvert_exporter": "python",
   "pygments_lexer": "ipython3",
   "version": "3.8.5"
  }
 },
 "nbformat": 4,
 "nbformat_minor": 4
}
